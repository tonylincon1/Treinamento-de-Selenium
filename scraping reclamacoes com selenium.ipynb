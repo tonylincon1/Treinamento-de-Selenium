{
 "cells": [
  {
   "cell_type": "markdown",
   "id": "936b9625-d0eb-4490-bd29-8210bedd8da1",
   "metadata": {
    "jp-MarkdownHeadingCollapsed": true,
    "tags": []
   },
   "source": [
    "# Instalando Selenium"
   ]
  },
  {
   "cell_type": "code",
   "execution_count": 1,
   "id": "b1df2886-c115-45dd-bb10-d32fccfaecbf",
   "metadata": {
    "collapsed": true,
    "jupyter": {
     "outputs_hidden": true
    },
    "tags": []
   },
   "outputs": [
    {
     "name": "stdout",
     "output_type": "stream",
     "text": [
      "Requirement already satisfied: selenium in d:\\arquivos - antônio\\educação\\meus treinamentos\\treinamento de selenium\\envselenium\\lib\\site-packages (4.3.0)\n",
      "Requirement already satisfied: trio~=0.17 in d:\\arquivos - antônio\\educação\\meus treinamentos\\treinamento de selenium\\envselenium\\lib\\site-packages (from selenium) (0.21.0)\n",
      "Requirement already satisfied: trio-websocket~=0.9 in d:\\arquivos - antônio\\educação\\meus treinamentos\\treinamento de selenium\\envselenium\\lib\\site-packages (from selenium) (0.9.2)\n",
      "Requirement already satisfied: urllib3[secure,socks]~=1.26 in d:\\arquivos - antônio\\educação\\meus treinamentos\\treinamento de selenium\\envselenium\\lib\\site-packages (from selenium) (1.26.11)\n",
      "Requirement already satisfied: sniffio in d:\\arquivos - antônio\\educação\\meus treinamentos\\treinamento de selenium\\envselenium\\lib\\site-packages (from trio~=0.17->selenium) (1.2.0)\n",
      "Requirement already satisfied: attrs>=19.2.0 in d:\\arquivos - antônio\\educação\\meus treinamentos\\treinamento de selenium\\envselenium\\lib\\site-packages (from trio~=0.17->selenium) (22.1.0)\n",
      "Requirement already satisfied: idna in d:\\arquivos - antônio\\educação\\meus treinamentos\\treinamento de selenium\\envselenium\\lib\\site-packages (from trio~=0.17->selenium) (3.3)\n",
      "Requirement already satisfied: async-generator>=1.9 in d:\\arquivos - antônio\\educação\\meus treinamentos\\treinamento de selenium\\envselenium\\lib\\site-packages (from trio~=0.17->selenium) (1.10)\n",
      "Requirement already satisfied: cffi>=1.14 in d:\\arquivos - antônio\\educação\\meus treinamentos\\treinamento de selenium\\envselenium\\lib\\site-packages (from trio~=0.17->selenium) (1.15.1)\n",
      "Requirement already satisfied: sortedcontainers in d:\\arquivos - antônio\\educação\\meus treinamentos\\treinamento de selenium\\envselenium\\lib\\site-packages (from trio~=0.17->selenium) (2.4.0)\n",
      "Requirement already satisfied: outcome in d:\\arquivos - antônio\\educação\\meus treinamentos\\treinamento de selenium\\envselenium\\lib\\site-packages (from trio~=0.17->selenium) (1.2.0)\n",
      "Requirement already satisfied: wsproto>=0.14 in d:\\arquivos - antônio\\educação\\meus treinamentos\\treinamento de selenium\\envselenium\\lib\\site-packages (from trio-websocket~=0.9->selenium) (1.1.0)\n",
      "Requirement already satisfied: PySocks!=1.5.7,<2.0,>=1.5.6 in d:\\arquivos - antônio\\educação\\meus treinamentos\\treinamento de selenium\\envselenium\\lib\\site-packages (from urllib3[secure,socks]~=1.26->selenium) (1.7.1)\n",
      "Requirement already satisfied: cryptography>=1.3.4 in d:\\arquivos - antônio\\educação\\meus treinamentos\\treinamento de selenium\\envselenium\\lib\\site-packages (from urllib3[secure,socks]~=1.26->selenium) (37.0.4)\n",
      "Requirement already satisfied: certifi in d:\\arquivos - antônio\\educação\\meus treinamentos\\treinamento de selenium\\envselenium\\lib\\site-packages (from urllib3[secure,socks]~=1.26->selenium) (2022.6.15)\n",
      "Requirement already satisfied: pyOpenSSL>=0.14 in d:\\arquivos - antônio\\educação\\meus treinamentos\\treinamento de selenium\\envselenium\\lib\\site-packages (from urllib3[secure,socks]~=1.26->selenium) (22.0.0)\n",
      "Requirement already satisfied: pycparser in d:\\arquivos - antônio\\educação\\meus treinamentos\\treinamento de selenium\\envselenium\\lib\\site-packages (from cffi>=1.14->trio~=0.17->selenium) (2.21)\n",
      "Requirement already satisfied: h11<1,>=0.9.0 in d:\\arquivos - antônio\\educação\\meus treinamentos\\treinamento de selenium\\envselenium\\lib\\site-packages (from wsproto>=0.14->trio-websocket~=0.9->selenium) (0.13.0)\n"
     ]
    }
   ],
   "source": [
    "!pip install selenium"
   ]
  },
  {
   "cell_type": "markdown",
   "id": "44325296-d395-4f78-9ec1-4a52538979db",
   "metadata": {
    "jp-MarkdownHeadingCollapsed": true,
    "tags": []
   },
   "source": [
    "# Setup do Scraping"
   ]
  },
  {
   "cell_type": "markdown",
   "id": "b4fb9d0c-a190-47a1-ada4-8fbb6bafd173",
   "metadata": {
    "jp-MarkdownHeadingCollapsed": true,
    "tags": []
   },
   "source": [
    "## Importando bibliotecas"
   ]
  },
  {
   "cell_type": "code",
   "execution_count": 2,
   "id": "26726e04-5f00-4be4-bf76-4b237701fbf0",
   "metadata": {},
   "outputs": [],
   "source": [
    "import pandas as pd\n",
    "import numpy as np\n",
    "import time\n",
    "from selenium import webdriver"
   ]
  },
  {
   "cell_type": "markdown",
   "id": "39bfe9fa-9e39-448c-812c-94b1512322a4",
   "metadata": {
    "jp-MarkdownHeadingCollapsed": true,
    "tags": []
   },
   "source": [
    "## Verifique a versão do navegador"
   ]
  },
  {
   "cell_type": "markdown",
   "id": "e04e0ca1-9f20-42f4-b87e-905f7394df37",
   "metadata": {},
   "source": [
    "Verifique a versão do seu navegador indo até a aba de configuração obtendo a versão atual\n",
    "\n",
    "Nesse caso abaixo, estamos verificando a versão do google chrome\n",
    "![image](imagens/versao_do_navegador.png)"
   ]
  },
  {
   "cell_type": "markdown",
   "id": "b512f269-db4f-4c4c-8f08-97e0b0b8789a",
   "metadata": {
    "jp-MarkdownHeadingCollapsed": true,
    "tags": []
   },
   "source": [
    "## Baixando driver do navegador utilizado"
   ]
  },
  {
   "cell_type": "markdown",
   "id": "bea5a923-1bf7-463c-8d28-c81a7dee36c7",
   "metadata": {},
   "source": [
    "Baixe o driver do navegador que você irá utilizar no scraping:\n",
    "\n",
    "Chrome: https://sites.google.com/chromium.org/driver/\n",
    "\n",
    "Edge: https://developer.microsoft.com/en-us/microsoft-edge/tools/webdriver/\n",
    "\n",
    "Firefox: https://github.com/mozilla/geckodriver/releases\n",
    "\n",
    "Safari: https://webkit.org/blog/6900/webdriver-support-in-safari-10/\n",
    "\n",
    "\n",
    "Após isso, coloque o driver que você baixou na raiz da aplicação que está desenvolvendo:\n",
    "![image](imagens/chromedriver_na_pasta_do_projeto.png)"
   ]
  },
  {
   "cell_type": "markdown",
   "id": "7ee2129c-999b-4624-a2cb-8ad1cf4988b1",
   "metadata": {
    "jp-MarkdownHeadingCollapsed": true,
    "tags": []
   },
   "source": [
    "# Manipulando o Navegador"
   ]
  },
  {
   "cell_type": "markdown",
   "id": "02b3dee7-9fe5-4708-9570-711a94f72119",
   "metadata": {
    "jp-MarkdownHeadingCollapsed": true,
    "tags": []
   },
   "source": [
    "## Abrindo navegador"
   ]
  },
  {
   "cell_type": "code",
   "execution_count": 3,
   "id": "49b310fd-d2b5-470d-ae4f-41fe3ff3fdb5",
   "metadata": {},
   "outputs": [],
   "source": [
    "navegador = webdriver.Chrome() #Esse comando cria um objeto que abre o navegador"
   ]
  },
  {
   "cell_type": "markdown",
   "id": "0a2669b7-abf2-44c7-ba27-72e622ad3ff4",
   "metadata": {
    "jp-MarkdownHeadingCollapsed": true,
    "tags": []
   },
   "source": [
    "## Navegando em sites"
   ]
  },
  {
   "cell_type": "code",
   "execution_count": 5,
   "id": "07cfc4db-7c52-4c72-a0c4-3cf53ca9853b",
   "metadata": {},
   "outputs": [],
   "source": [
    "navegador.get(\"https://www.google.com/\") #Acessando o google"
   ]
  },
  {
   "cell_type": "code",
   "execution_count": 6,
   "id": "fef8e9a8-f5de-4731-b6be-40c5ec9b7397",
   "metadata": {},
   "outputs": [],
   "source": [
    "navegador.get(\"https://stackoverflow.com/\") #Acessando o stackoverflow"
   ]
  },
  {
   "cell_type": "code",
   "execution_count": 7,
   "id": "3913f9c8-a9d1-4a35-bfb7-f6fdce4fab59",
   "metadata": {},
   "outputs": [],
   "source": [
    "navegador.get(\"https://a3data.com.br/\") #Acessando o site da a3data"
   ]
  },
  {
   "cell_type": "code",
   "execution_count": 8,
   "id": "33507479-c573-4cdc-9849-c62c1cca8ea3",
   "metadata": {},
   "outputs": [],
   "source": [
    "navegador.get(\"https://www.reclameaqui.com.br/\") #Acessando o reclameaqui"
   ]
  },
  {
   "cell_type": "markdown",
   "id": "71266b6b-d997-45fd-9baa-44a9dcf4ad7b",
   "metadata": {
    "jp-MarkdownHeadingCollapsed": true,
    "tags": []
   },
   "source": [
    "## Localizando Elementos"
   ]
  },
  {
   "cell_type": "markdown",
   "id": "54fab35b-1a27-4bde-b252-12134bf9f144",
   "metadata": {},
   "source": [
    "Para pode localizar os elementos, precisamos de uma ferramenta dos navegadores que são as ferramentas dos desenvolvedores para acessar o código em html da página. Para acessar basta clicar com o botão direito na página e após isso, basta clicar em \"Inspecionar\", no caso do google chrome. Isso pode mudar para outros tipos de navegadores:\n",
    "\n",
    "![image](imagens/ferramenta_inspecionar.png)\n",
    "\n",
    "\n",
    "Após isso, você terá acesso ao código html da página:\n",
    "\n",
    "![image](imagens/codigo_html_da_pag.png)"
   ]
  },
  {
   "cell_type": "code",
   "execution_count": 13,
   "id": "cd0f2e91-70c4-4c92-bb36-0981f2c6f0d8",
   "metadata": {},
   "outputs": [
    {
     "data": {
      "text/plain": [
       "<selenium.webdriver.remote.webelement.WebElement (session=\"d4288577c047e10bedd81a0d95f08c44\", element=\"0afff52f-db72-4f2b-a0d3-7a8c9108364b\")>"
      ]
     },
     "execution_count": 13,
     "metadata": {},
     "output_type": "execute_result"
    }
   ],
   "source": [
    "from selenium.webdriver.common.by import By\n",
    "\n",
    "cookie_site = navegador.find_element(By.XPATH, \"/html/body/div[7]/div[2]/div/div[2]/div[1]/div/div[2]/div/div[1]/button\") #Localizando o aceite de cookies do site\n",
    "cookie_site"
   ]
  },
  {
   "cell_type": "code",
   "execution_count": 10,
   "id": "911307d3-6674-410b-bca2-090b1ff01c59",
   "metadata": {},
   "outputs": [],
   "source": [
    "from selenium.webdriver.common.by import By\n",
    "\n",
    "barra_de_pesquisa = navegador.find_element(By.XPATH, \"/html/body/div[1]/div[1]/div[1]/div[3]/div[1]/div/div[1]/div/div/div/input\")"
   ]
  },
  {
   "cell_type": "code",
   "execution_count": 11,
   "id": "7bc89c38-1505-4915-86f9-8092739a937a",
   "metadata": {},
   "outputs": [],
   "source": [
    "barra_de_pesquisa.click()"
   ]
  },
  {
   "cell_type": "code",
   "execution_count": 12,
   "id": "053c022d-45c7-40db-b7f3-ffd6e1737d4b",
   "metadata": {},
   "outputs": [],
   "source": [
    "barra_de_pesquisa.send_keys(\"Instagram\")"
   ]
  },
  {
   "cell_type": "markdown",
   "id": "a6ac8d87-893b-482d-9f61-00c65c8df273",
   "metadata": {
    "jp-MarkdownHeadingCollapsed": true,
    "tags": []
   },
   "source": [
    "**Outros tipos de seletores html:**\n",
    "\n",
    "ID = \"id\"\n",
    "\n",
    "NAME = \"name\"\n",
    "\n",
    "XPATH = \"xpath\"\n",
    "\n",
    "LINK_TEXT = \"link text\"\n",
    "\n",
    "PARTIAL_LINK_TEXT = \"partial link text\"\n",
    "\n",
    "TAG_NAME = \"tag name\"\n",
    "\n",
    "CLASS_NAME = \"class name\"\n",
    "\n",
    "CSS_SELECTOR = \"css selector\""
   ]
  },
  {
   "cell_type": "markdown",
   "id": "b16b6097-3571-47d7-a87e-84479a9f8b80",
   "metadata": {
    "jp-MarkdownHeadingCollapsed": true,
    "tags": []
   },
   "source": [
    "## Como simular teclado e mouse"
   ]
  },
  {
   "cell_type": "code",
   "execution_count": 14,
   "id": "12f53bc5-5914-43e4-ab67-89051bc14988",
   "metadata": {
    "collapsed": true,
    "jupyter": {
     "outputs_hidden": true
    },
    "tags": []
   },
   "outputs": [
    {
     "ename": "ElementNotInteractableException",
     "evalue": "Message: element not interactable\n  (Session info: chrome=103.0.5060.134)\nStacktrace:\nBacktrace:\n\tOrdinal0 [0x00835FD3+2187219]\n\tOrdinal0 [0x007CE6D1+1763025]\n\tOrdinal0 [0x006E3D40+802112]\n\tOrdinal0 [0x00712C03+994307]\n\tOrdinal0 [0x007089B3+952755]\n\tOrdinal0 [0x0072CB8C+1100684]\n\tOrdinal0 [0x00708394+951188]\n\tOrdinal0 [0x0072CDA4+1101220]\n\tOrdinal0 [0x0073CFC2+1167298]\n\tOrdinal0 [0x0072C9A6+1100198]\n\tOrdinal0 [0x00706F80+946048]\n\tOrdinal0 [0x00707E76+949878]\n\tGetHandleVerifier [0x00AD90C2+2721218]\n\tGetHandleVerifier [0x00ACAAF0+2662384]\n\tGetHandleVerifier [0x008C137A+526458]\n\tGetHandleVerifier [0x008C0416+522518]\n\tOrdinal0 [0x007D4EAB+1789611]\n\tOrdinal0 [0x007D97A8+1808296]\n\tOrdinal0 [0x007D9895+1808533]\n\tOrdinal0 [0x007E26C1+1844929]\n\tBaseThreadInitThunk [0x7535FA29+25]\n\tRtlGetAppContainerNamedObjectPath [0x774C7A9E+286]\n\tRtlGetAppContainerNamedObjectPath [0x774C7A6E+238]\n",
     "output_type": "error",
     "traceback": [
      "\u001b[1;31m---------------------------------------------------------------------------\u001b[0m",
      "\u001b[1;31mElementNotInteractableException\u001b[0m           Traceback (most recent call last)",
      "Input \u001b[1;32mIn [14]\u001b[0m, in \u001b[0;36m<cell line: 1>\u001b[1;34m()\u001b[0m\n\u001b[1;32m----> 1\u001b[0m \u001b[43mcookie_site\u001b[49m\u001b[38;5;241;43m.\u001b[39;49m\u001b[43mclick\u001b[49m\u001b[43m(\u001b[49m\u001b[43m)\u001b[49m\n",
      "File \u001b[1;32mD:\\Arquivos - Antônio\\Educação\\Meus Treinamentos\\Treinamento de selenium\\envselenium\\lib\\site-packages\\selenium\\webdriver\\remote\\webelement.py:88\u001b[0m, in \u001b[0;36mWebElement.click\u001b[1;34m(self)\u001b[0m\n\u001b[0;32m     86\u001b[0m \u001b[38;5;28;01mdef\u001b[39;00m \u001b[38;5;21mclick\u001b[39m(\u001b[38;5;28mself\u001b[39m) \u001b[38;5;241m-\u001b[39m\u001b[38;5;241m>\u001b[39m \u001b[38;5;28;01mNone\u001b[39;00m:\n\u001b[0;32m     87\u001b[0m     \u001b[38;5;124;03m\"\"\"Clicks the element.\"\"\"\u001b[39;00m\n\u001b[1;32m---> 88\u001b[0m     \u001b[38;5;28;43mself\u001b[39;49m\u001b[38;5;241;43m.\u001b[39;49m\u001b[43m_execute\u001b[49m\u001b[43m(\u001b[49m\u001b[43mCommand\u001b[49m\u001b[38;5;241;43m.\u001b[39;49m\u001b[43mCLICK_ELEMENT\u001b[49m\u001b[43m)\u001b[49m\n",
      "File \u001b[1;32mD:\\Arquivos - Antônio\\Educação\\Meus Treinamentos\\Treinamento de selenium\\envselenium\\lib\\site-packages\\selenium\\webdriver\\remote\\webelement.py:396\u001b[0m, in \u001b[0;36mWebElement._execute\u001b[1;34m(self, command, params)\u001b[0m\n\u001b[0;32m    394\u001b[0m     params \u001b[38;5;241m=\u001b[39m {}\n\u001b[0;32m    395\u001b[0m params[\u001b[38;5;124m'\u001b[39m\u001b[38;5;124mid\u001b[39m\u001b[38;5;124m'\u001b[39m] \u001b[38;5;241m=\u001b[39m \u001b[38;5;28mself\u001b[39m\u001b[38;5;241m.\u001b[39m_id\n\u001b[1;32m--> 396\u001b[0m \u001b[38;5;28;01mreturn\u001b[39;00m \u001b[38;5;28;43mself\u001b[39;49m\u001b[38;5;241;43m.\u001b[39;49m\u001b[43m_parent\u001b[49m\u001b[38;5;241;43m.\u001b[39;49m\u001b[43mexecute\u001b[49m\u001b[43m(\u001b[49m\u001b[43mcommand\u001b[49m\u001b[43m,\u001b[49m\u001b[43m \u001b[49m\u001b[43mparams\u001b[49m\u001b[43m)\u001b[49m\n",
      "File \u001b[1;32mD:\\Arquivos - Antônio\\Educação\\Meus Treinamentos\\Treinamento de selenium\\envselenium\\lib\\site-packages\\selenium\\webdriver\\remote\\webdriver.py:435\u001b[0m, in \u001b[0;36mWebDriver.execute\u001b[1;34m(self, driver_command, params)\u001b[0m\n\u001b[0;32m    433\u001b[0m response \u001b[38;5;241m=\u001b[39m \u001b[38;5;28mself\u001b[39m\u001b[38;5;241m.\u001b[39mcommand_executor\u001b[38;5;241m.\u001b[39mexecute(driver_command, params)\n\u001b[0;32m    434\u001b[0m \u001b[38;5;28;01mif\u001b[39;00m response:\n\u001b[1;32m--> 435\u001b[0m     \u001b[38;5;28;43mself\u001b[39;49m\u001b[38;5;241;43m.\u001b[39;49m\u001b[43merror_handler\u001b[49m\u001b[38;5;241;43m.\u001b[39;49m\u001b[43mcheck_response\u001b[49m\u001b[43m(\u001b[49m\u001b[43mresponse\u001b[49m\u001b[43m)\u001b[49m\n\u001b[0;32m    436\u001b[0m     response[\u001b[38;5;124m'\u001b[39m\u001b[38;5;124mvalue\u001b[39m\u001b[38;5;124m'\u001b[39m] \u001b[38;5;241m=\u001b[39m \u001b[38;5;28mself\u001b[39m\u001b[38;5;241m.\u001b[39m_unwrap_value(\n\u001b[0;32m    437\u001b[0m         response\u001b[38;5;241m.\u001b[39mget(\u001b[38;5;124m'\u001b[39m\u001b[38;5;124mvalue\u001b[39m\u001b[38;5;124m'\u001b[39m, \u001b[38;5;28;01mNone\u001b[39;00m))\n\u001b[0;32m    438\u001b[0m     \u001b[38;5;28;01mreturn\u001b[39;00m response\n",
      "File \u001b[1;32mD:\\Arquivos - Antônio\\Educação\\Meus Treinamentos\\Treinamento de selenium\\envselenium\\lib\\site-packages\\selenium\\webdriver\\remote\\errorhandler.py:247\u001b[0m, in \u001b[0;36mErrorHandler.check_response\u001b[1;34m(self, response)\u001b[0m\n\u001b[0;32m    245\u001b[0m         alert_text \u001b[38;5;241m=\u001b[39m value[\u001b[38;5;124m'\u001b[39m\u001b[38;5;124malert\u001b[39m\u001b[38;5;124m'\u001b[39m]\u001b[38;5;241m.\u001b[39mget(\u001b[38;5;124m'\u001b[39m\u001b[38;5;124mtext\u001b[39m\u001b[38;5;124m'\u001b[39m)\n\u001b[0;32m    246\u001b[0m     \u001b[38;5;28;01mraise\u001b[39;00m exception_class(message, screen, stacktrace, alert_text)  \u001b[38;5;66;03m# type: ignore[call-arg]  # mypy is not smart enough here\u001b[39;00m\n\u001b[1;32m--> 247\u001b[0m \u001b[38;5;28;01mraise\u001b[39;00m exception_class(message, screen, stacktrace)\n",
      "\u001b[1;31mElementNotInteractableException\u001b[0m: Message: element not interactable\n  (Session info: chrome=103.0.5060.134)\nStacktrace:\nBacktrace:\n\tOrdinal0 [0x00835FD3+2187219]\n\tOrdinal0 [0x007CE6D1+1763025]\n\tOrdinal0 [0x006E3D40+802112]\n\tOrdinal0 [0x00712C03+994307]\n\tOrdinal0 [0x007089B3+952755]\n\tOrdinal0 [0x0072CB8C+1100684]\n\tOrdinal0 [0x00708394+951188]\n\tOrdinal0 [0x0072CDA4+1101220]\n\tOrdinal0 [0x0073CFC2+1167298]\n\tOrdinal0 [0x0072C9A6+1100198]\n\tOrdinal0 [0x00706F80+946048]\n\tOrdinal0 [0x00707E76+949878]\n\tGetHandleVerifier [0x00AD90C2+2721218]\n\tGetHandleVerifier [0x00ACAAF0+2662384]\n\tGetHandleVerifier [0x008C137A+526458]\n\tGetHandleVerifier [0x008C0416+522518]\n\tOrdinal0 [0x007D4EAB+1789611]\n\tOrdinal0 [0x007D97A8+1808296]\n\tOrdinal0 [0x007D9895+1808533]\n\tOrdinal0 [0x007E26C1+1844929]\n\tBaseThreadInitThunk [0x7535FA29+25]\n\tRtlGetAppContainerNamedObjectPath [0x774C7A9E+286]\n\tRtlGetAppContainerNamedObjectPath [0x774C7A6E+238]\n"
     ]
    }
   ],
   "source": [
    "cookie_site.click() # Realiza click no elemento identificado"
   ]
  },
  {
   "cell_type": "code",
   "execution_count": 34,
   "id": "d2ea2593-d2f7-427c-a1ff-39534065a427",
   "metadata": {},
   "outputs": [],
   "source": [
    "busca_do_site = navegador.find_element(By.XPATH, \"/html/body/div[1]/div[1]/div[1]/div[2]/div[1]/div/div[1]/div/div/div/input\")"
   ]
  },
  {
   "cell_type": "code",
   "execution_count": 35,
   "id": "644609b2-4ee2-467c-af43-b97d8811e59d",
   "metadata": {},
   "outputs": [],
   "source": [
    "busca_do_site.click()"
   ]
  },
  {
   "cell_type": "code",
   "execution_count": 36,
   "id": "131b5d6d-d06e-44f0-ba4b-508cf4e0bbf0",
   "metadata": {},
   "outputs": [],
   "source": [
    "busca_do_site.send_keys(\"Instagram\") # Realiza escrita em um campo"
   ]
  },
  {
   "cell_type": "code",
   "execution_count": 37,
   "id": "98c4fd04-6fe0-420a-805b-96b488e86497",
   "metadata": {},
   "outputs": [],
   "source": [
    "from selenium.webdriver.common.keys import Keys\n",
    "\n",
    "busca_do_site.send_keys(Keys.ENTER) # Utilizando teclado\n",
    "\n",
    "# Outras teclas -> https://www.geeksforgeeks.org/special-keys-in-selenium-python/"
   ]
  },
  {
   "cell_type": "markdown",
   "id": "f31c85fc-713d-4d63-b4c4-66909f8039f7",
   "metadata": {
    "jp-MarkdownHeadingCollapsed": true,
    "tags": []
   },
   "source": [
    "## Como realizar scraping"
   ]
  },
  {
   "cell_type": "code",
   "execution_count": 38,
   "id": "55f094cf-2bc5-4ba4-bb72-56b7cdd23d32",
   "metadata": {},
   "outputs": [],
   "source": [
    "instagram = navegador.find_element(By.XPATH, \"/html/body/div[1]/div[1]/div[1]/div[1]/header/div/div[1]/div[1]/div/section/div/div[2]/div[1]/div/div/div/div/div[1]/div/a/div[1]\")\n",
    "\n",
    "instagram.click()"
   ]
  },
  {
   "cell_type": "code",
   "execution_count": 13,
   "id": "4011bf3c-09d1-460e-b86c-581f7b9271c9",
   "metadata": {},
   "outputs": [],
   "source": [
    "texto = navegador.find_element(By.XPATH, \"/html/body/div[1]/div[1]/div[1]/div[3]/main/section[2]/div[2]/div[2]\")"
   ]
  },
  {
   "cell_type": "code",
   "execution_count": 14,
   "id": "aa7709e3-3036-4456-b009-314fa714bdff",
   "metadata": {},
   "outputs": [
    {
     "data": {
      "text/plain": [
       "'Conta inativada a mais de 30 dias\\nOla me chamo Juliene O motivo do. Meu contato é uma ação inadequada q fizeram contra uma conta minha de 7 anos E\\nNão respondida\\nHá 1 hora\\nConta bloqueada phishing\\nMinha conta foi bloqueada e o e-mail de recuperação simplesmente NÃO CHEGA Já faz 5 horas que minha conta tá bloqueada e nad\\nNão respondida\\nHá 1 hora\\nReativamento de conta não autorizada\\nDesativei minha conta temporiamente e o Instagram ativou a conta dias depois sem a minha solicitação ou entrada no aplicativo.\\nNão respondida\\nHá 1 hora\\nNão é possível fazer login\\nOlá Tenho o instagram desde 2013, e não consigo fazer login. Já tentei absolutamente tudo que o tutorial do instagram pede i\\nNão respondida\\nHá 1 hora\\n[Editado pelo Reclame Aqui]S PELO INSTAGRAM - APLICATIVO NÃO PARECE SE PREOCUPAR\\nVenho manifestar minha indignação ao Instagram, que não demonstra se preocupar em barrar [Editado pelo Reclame Aqui]s e identificar [Editado pelo Reclame Aqui]s. O aplic\\nNão respondida\\nHá 1 hora\\nNão consigo pagar o Instagram\\nNão estou conseguindo pagar um anúncio no Instagram há meses por um bug, já deixei mensagem na opção &quot;Relatar um problema&qu\\nNão respondida\\nHá 1 hora\\nminha conta do instagram foi desativada injustamente ou por engano!\\neu faço uso devido do instagram, inclusive usando para trabalho, porem o instagram desativou minha conta alegando que o meu facebo\\nNão respondida\\nHá 1 hora\\nConta Pessoal invadida aplicando [Editado pelo Reclame Aqui]s.\\nDia 29/07/2022 recebi uma mensagem da minha amiga perguntando se o que eu tinha postado nos stories era verídico, um [Editado pelo Reclame Aqui] de pix,\\nNão respondida\\nHá 1 hora\\nTive a minha conta do instagram recem criada bloqueada sem nenhuma explicação\\nBoa tarde, há alguns dias, tive a minha conta @fabianomoscardi bloqueada no instagram sem nenhuma explicação, gostaria de ajuda pa\\nNão respondida\\nHá 1 hora\\nInvadiram minha conta e mudaram número do meu celular\\nINVADIRAM A MINHA CONTA DIA 29/08/2022 E MUDADAM MEU NÚMERO SE TELEFONE E O INSTAGRAM NÃO FAZ NADA PRA ME AJUDAR !!!! DENUNCIEM O\\nNão respondida\\nHá 1 hora\\n1\\n2\\n3\\n4\\n5\\n…\\n34383'"
      ]
     },
     "execution_count": 14,
     "metadata": {},
     "output_type": "execute_result"
    }
   ],
   "source": [
    "texto.text # Acessando conteúdo do elemento localizado"
   ]
  },
  {
   "cell_type": "code",
   "execution_count": 15,
   "id": "d2305b91-4b3b-4ef5-81ca-79c5151699e0",
   "metadata": {},
   "outputs": [
    {
     "data": {
      "text/plain": [
       "['Conta inativada a mais de 30 dias',\n",
       " 'Ola me chamo Juliene O motivo do. Meu contato é uma ação inadequada q fizeram contra uma conta minha de 7 anos E',\n",
       " 'Não respondida',\n",
       " 'Há 1 hora',\n",
       " 'Conta bloqueada phishing',\n",
       " 'Minha conta foi bloqueada e o e-mail de recuperação simplesmente NÃO CHEGA Já faz 5 horas que minha conta tá bloqueada e nad',\n",
       " 'Não respondida',\n",
       " 'Há 1 hora',\n",
       " 'Reativamento de conta não autorizada',\n",
       " 'Desativei minha conta temporiamente e o Instagram ativou a conta dias depois sem a minha solicitação ou entrada no aplicativo.',\n",
       " 'Não respondida',\n",
       " 'Há 1 hora',\n",
       " 'Não é possível fazer login',\n",
       " 'Olá Tenho o instagram desde 2013, e não consigo fazer login. Já tentei absolutamente tudo que o tutorial do instagram pede i',\n",
       " 'Não respondida',\n",
       " 'Há 1 hora',\n",
       " '[Editado pelo Reclame Aqui]S PELO INSTAGRAM - APLICATIVO NÃO PARECE SE PREOCUPAR',\n",
       " 'Venho manifestar minha indignação ao Instagram, que não demonstra se preocupar em barrar [Editado pelo Reclame Aqui]s e identificar [Editado pelo Reclame Aqui]s. O aplic',\n",
       " 'Não respondida',\n",
       " 'Há 1 hora',\n",
       " 'Não consigo pagar o Instagram',\n",
       " 'Não estou conseguindo pagar um anúncio no Instagram há meses por um bug, já deixei mensagem na opção &quot;Relatar um problema&qu',\n",
       " 'Não respondida',\n",
       " 'Há 1 hora',\n",
       " 'minha conta do instagram foi desativada injustamente ou por engano!',\n",
       " 'eu faço uso devido do instagram, inclusive usando para trabalho, porem o instagram desativou minha conta alegando que o meu facebo',\n",
       " 'Não respondida',\n",
       " 'Há 1 hora',\n",
       " 'Conta Pessoal invadida aplicando [Editado pelo Reclame Aqui]s.',\n",
       " 'Dia 29/07/2022 recebi uma mensagem da minha amiga perguntando se o que eu tinha postado nos stories era verídico, um [Editado pelo Reclame Aqui] de pix,',\n",
       " 'Não respondida',\n",
       " 'Há 1 hora',\n",
       " 'Tive a minha conta do instagram recem criada bloqueada sem nenhuma explicação',\n",
       " 'Boa tarde, há alguns dias, tive a minha conta @fabianomoscardi bloqueada no instagram sem nenhuma explicação, gostaria de ajuda pa',\n",
       " 'Não respondida',\n",
       " 'Há 1 hora',\n",
       " 'Invadiram minha conta e mudaram número do meu celular',\n",
       " 'INVADIRAM A MINHA CONTA DIA 29/08/2022 E MUDADAM MEU NÚMERO SE TELEFONE E O INSTAGRAM NÃO FAZ NADA PRA ME AJUDAR !!!! DENUNCIEM O',\n",
       " 'Não respondida',\n",
       " 'Há 1 hora',\n",
       " '1',\n",
       " '2',\n",
       " '3',\n",
       " '4',\n",
       " '5',\n",
       " '…',\n",
       " '34383']"
      ]
     },
     "execution_count": 15,
     "metadata": {},
     "output_type": "execute_result"
    }
   ],
   "source": [
    "texto.text.split('\\n')"
   ]
  },
  {
   "cell_type": "code",
   "execution_count": 44,
   "id": "28de55c0-36e0-4a42-b8e0-3641eaa94874",
   "metadata": {},
   "outputs": [
    {
     "data": {
      "text/html": [
       "<div>\n",
       "<style scoped>\n",
       "    .dataframe tbody tr th:only-of-type {\n",
       "        vertical-align: middle;\n",
       "    }\n",
       "\n",
       "    .dataframe tbody tr th {\n",
       "        vertical-align: top;\n",
       "    }\n",
       "\n",
       "    .dataframe thead th {\n",
       "        text-align: right;\n",
       "    }\n",
       "</style>\n",
       "<table border=\"1\" class=\"dataframe\">\n",
       "  <thead>\n",
       "    <tr style=\"text-align: right;\">\n",
       "      <th></th>\n",
       "      <th>title</th>\n",
       "      <th>description</th>\n",
       "      <th>status</th>\n",
       "      <th>time</th>\n",
       "    </tr>\n",
       "  </thead>\n",
       "  <tbody>\n",
       "    <tr>\n",
       "      <th>0</th>\n",
       "      <td>Não consigo entrar no Instagram</td>\n",
       "      <td>ESTÁ DIZENDO QUE ESTOU BLOQUEADA, NAO SEI O MO...</td>\n",
       "      <td>Não respondida</td>\n",
       "      <td>Há 1 hora</td>\n",
       "    </tr>\n",
       "  </tbody>\n",
       "</table>\n",
       "</div>"
      ],
      "text/plain": [
       "                             title  \\\n",
       "0  Não consigo entrar no Instagram   \n",
       "\n",
       "                                         description          status  \\\n",
       "0  ESTÁ DIZENDO QUE ESTOU BLOQUEADA, NAO SEI O MO...  Não respondida   \n",
       "\n",
       "        time  \n",
       "0  Há 1 hora  "
      ]
     },
     "execution_count": 44,
     "metadata": {},
     "output_type": "execute_result"
    }
   ],
   "source": [
    "pd.DataFrame([texto.text.split('\\n')], columns=['title', 'description', 'status', 'time'])"
   ]
  },
  {
   "cell_type": "markdown",
   "id": "8a7c3f97-c07e-4905-9316-4b5b955cf8f2",
   "metadata": {
    "jp-MarkdownHeadingCollapsed": true,
    "tags": []
   },
   "source": [
    "## Como fazer espera"
   ]
  },
  {
   "cell_type": "code",
   "execution_count": 45,
   "id": "0938b0f6-31d4-46bf-b4bb-46169af12f8f",
   "metadata": {},
   "outputs": [],
   "source": [
    "import time\n",
    "\n",
    "seconds = 5\n",
    "\n",
    "time.sleep(seconds)"
   ]
  },
  {
   "cell_type": "markdown",
   "id": "0db7c800-835f-46ea-a587-32b728fdcad5",
   "metadata": {
    "jp-MarkdownHeadingCollapsed": true,
    "tags": []
   },
   "source": [
    "# Criando Coleta Automatizada"
   ]
  },
  {
   "cell_type": "code",
   "execution_count": 16,
   "id": "76c2de67-6da6-4f57-b915-22dbfc4757ae",
   "metadata": {},
   "outputs": [],
   "source": [
    "def abre_navegador():\n",
    "    return webdriver.Chrome()\n",
    "\n",
    "def acessa_site(navegador):\n",
    "    navegador.get(\"https://www.reclameaqui.com.br/\") \n",
    "    time.sleep(3)\n",
    "    cookie_site = navegador.find_element(By.XPATH, \"/html/body/div[7]/div[2]/div/div[2]/div[1]/div/div[2]/div/div[1]/button\")\n",
    "    time.sleep(3)\n",
    "    cookie_site.click()\n",
    "    time.sleep(3)\n",
    "\n",
    "def realiza_pesquisa(navegador,fonte_de_pesquisa):\n",
    "    busca_do_site = navegador.find_element(By.XPATH, \"/html/body/div[1]/div[1]/div[1]/div[4]/div[1]/div/div[2]/div/div/div/input\")\n",
    "    busca_do_site.click()\n",
    "    time.sleep(3)\n",
    "    busca_do_site.send_keys(fonte_de_pesquisa)\n",
    "    time.sleep(3)\n",
    "    instagram = navegador.find_element(By.XPATH, \"/html/body/div[1]/div[1]/div[1]/div[2]/header/div/div[1]/div[1]/div/section/div/div[2]/div[1]/div/div/div[2]/div/div[1]\")\n",
    "    instagram.click()\n",
    "    time.sleep(3)\n",
    "\n",
    "def coleta_informacoes(navegador, numero_de_pags_coletadas):\n",
    "    ver_mais = navegador.find_element(By.XPATH, \"/html/body/div[1]/div[1]/div[1]/section/section/div[2]/div[1]/div[2]/a\")\n",
    "    ver_mais.click()\n",
    "    time.sleep(3)\n",
    "    data_scraping = pd.DataFrame(None, columns=['title','description','status','time'])\n",
    "    \n",
    "    for i in range(0,numero_de_pags_coletadas):\n",
    "        local_conteudo = navegador.find_element(By.XPATH, '//*[@id=\"__next\"]/div[1]/div[1]/div[4]/main/section[2]/div[2]/div[2]')\n",
    "        conteudo = local_conteudo.text\n",
    "        time.sleep(3)\n",
    "        tratamento_conteudo = np.array_split(conteudo.split(\"\\n\")[:-7],10)\n",
    "\n",
    "        for n in tratamento_conteudo:\n",
    "            data = pd.DataFrame([n], columns=['title','description','status','time'])\n",
    "            data_scraping = pd.concat([data_scraping, data])\n",
    "\n",
    "        time.sleep(3)\n",
    "        proxima_pag = navegador.find_element(By.XPATH, '//*[@id=\"__next\"]/div[1]/div[1]/div[4]/main/section[2]/div[2]/div[2]/div[11]/ul/li[9]')\n",
    "        proxima_pag.click()\n",
    "        \n",
    "    return data_scraping\n",
    "\n",
    "def inicia_coleta(fonte_de_pesquisa, numero_de_pags_coletadas):\n",
    "    navegador = abre_navegador()\n",
    "    acessa_site(navegador)\n",
    "    realiza_pesquisa(navegador,fonte_de_pesquisa)\n",
    "    results = coleta_informacoes(navegador,numero_de_pags_coletadas)\n",
    "    return results"
   ]
  },
  {
   "cell_type": "code",
   "execution_count": 17,
   "id": "94c060f6-8f3c-42a7-84d7-9c6d53553bf2",
   "metadata": {},
   "outputs": [
    {
     "data": {
      "text/html": [
       "<div>\n",
       "<style scoped>\n",
       "    .dataframe tbody tr th:only-of-type {\n",
       "        vertical-align: middle;\n",
       "    }\n",
       "\n",
       "    .dataframe tbody tr th {\n",
       "        vertical-align: top;\n",
       "    }\n",
       "\n",
       "    .dataframe thead th {\n",
       "        text-align: right;\n",
       "    }\n",
       "</style>\n",
       "<table border=\"1\" class=\"dataframe\">\n",
       "  <thead>\n",
       "    <tr style=\"text-align: right;\">\n",
       "      <th></th>\n",
       "      <th>title</th>\n",
       "      <th>description</th>\n",
       "      <th>status</th>\n",
       "      <th>time</th>\n",
       "    </tr>\n",
       "  </thead>\n",
       "  <tbody>\n",
       "    <tr>\n",
       "      <th>0</th>\n",
       "      <td>Erro ao tentar desativar conta no instagram</td>\n",
       "      <td>Tentei por diversas vezes desativar minha cont...</td>\n",
       "      <td>Não respondida</td>\n",
       "      <td>Há poucos segundos</td>\n",
       "    </tr>\n",
       "    <tr>\n",
       "      <th>0</th>\n",
       "      <td>Desativaram minha conta por engano</td>\n",
       "      <td>Desde o dia 2 o instagram desativou minha cont...</td>\n",
       "      <td>Não respondida</td>\n",
       "      <td>Há poucos segundos</td>\n",
       "    </tr>\n",
       "    <tr>\n",
       "      <th>0</th>\n",
       "      <td>O Instagram esconde meus stories dos seguidores</td>\n",
       "      <td>Quando eu posto mais de um stories o Instagram...</td>\n",
       "      <td>Não respondida</td>\n",
       "      <td>Há 1 hora</td>\n",
       "    </tr>\n",
       "    <tr>\n",
       "      <th>0</th>\n",
       "      <td>[Editado pelo Reclame Aqui]am minha conta</td>\n",
       "      <td>Haquearam minha conta sandraborgeswellness no ...</td>\n",
       "      <td>Não respondida</td>\n",
       "      <td>Há 1 hora</td>\n",
       "    </tr>\n",
       "    <tr>\n",
       "      <th>0</th>\n",
       "      <td>Conta desativada e não recebo código de ativaç...</td>\n",
       "      <td>Ola, Minha conta comecial do Instagram foi des...</td>\n",
       "      <td>Não respondida</td>\n",
       "      <td>Há 1 hora</td>\n",
       "    </tr>\n",
       "    <tr>\n",
       "      <th>...</th>\n",
       "      <td>...</td>\n",
       "      <td>...</td>\n",
       "      <td>...</td>\n",
       "      <td>...</td>\n",
       "    </tr>\n",
       "    <tr>\n",
       "      <th>0</th>\n",
       "      <td>Bloqueios indevidos irritantes</td>\n",
       "      <td>Eu sou músico e estou tentando administrar min...</td>\n",
       "      <td>Não respondida</td>\n",
       "      <td>Há 1 hora</td>\n",
       "    </tr>\n",
       "    <tr>\n",
       "      <th>0</th>\n",
       "      <td>não recebo o código de ativação</td>\n",
       "      <td>Olá, não recebo o código de ativação no meu em...</td>\n",
       "      <td>Não respondida</td>\n",
       "      <td>Há 1 hora</td>\n",
       "    </tr>\n",
       "    <tr>\n",
       "      <th>0</th>\n",
       "      <td>Sem acesso a minha conta</td>\n",
       "      <td>Olá. Sou proprietária do @art_dourada e estou ...</td>\n",
       "      <td>Não respondida</td>\n",
       "      <td>Há 1 hora</td>\n",
       "    </tr>\n",
       "    <tr>\n",
       "      <th>0</th>\n",
       "      <td>Conta inativada a mais de 30 dias</td>\n",
       "      <td>Ola me chamo Juliene O motivo do. Meu contato ...</td>\n",
       "      <td>Não respondida</td>\n",
       "      <td>Há 1 hora</td>\n",
       "    </tr>\n",
       "    <tr>\n",
       "      <th>0</th>\n",
       "      <td>Conta bloqueada phishing</td>\n",
       "      <td>Minha conta foi bloqueada e o e-mail de recupe...</td>\n",
       "      <td>Não respondida</td>\n",
       "      <td>Há 1 hora</td>\n",
       "    </tr>\n",
       "  </tbody>\n",
       "</table>\n",
       "<p>100 rows × 4 columns</p>\n",
       "</div>"
      ],
      "text/plain": [
       "                                                title  \\\n",
       "0         Erro ao tentar desativar conta no instagram   \n",
       "0                  Desativaram minha conta por engano   \n",
       "0     O Instagram esconde meus stories dos seguidores   \n",
       "0           [Editado pelo Reclame Aqui]am minha conta   \n",
       "0   Conta desativada e não recebo código de ativaç...   \n",
       "..                                                ...   \n",
       "0                      Bloqueios indevidos irritantes   \n",
       "0                     não recebo o código de ativação   \n",
       "0                            Sem acesso a minha conta   \n",
       "0                   Conta inativada a mais de 30 dias   \n",
       "0                            Conta bloqueada phishing   \n",
       "\n",
       "                                          description          status  \\\n",
       "0   Tentei por diversas vezes desativar minha cont...  Não respondida   \n",
       "0   Desde o dia 2 o instagram desativou minha cont...  Não respondida   \n",
       "0   Quando eu posto mais de um stories o Instagram...  Não respondida   \n",
       "0   Haquearam minha conta sandraborgeswellness no ...  Não respondida   \n",
       "0   Ola, Minha conta comecial do Instagram foi des...  Não respondida   \n",
       "..                                                ...             ...   \n",
       "0   Eu sou músico e estou tentando administrar min...  Não respondida   \n",
       "0   Olá, não recebo o código de ativação no meu em...  Não respondida   \n",
       "0   Olá. Sou proprietária do @art_dourada e estou ...  Não respondida   \n",
       "0   Ola me chamo Juliene O motivo do. Meu contato ...  Não respondida   \n",
       "0   Minha conta foi bloqueada e o e-mail de recupe...  Não respondida   \n",
       "\n",
       "                  time  \n",
       "0   Há poucos segundos  \n",
       "0   Há poucos segundos  \n",
       "0            Há 1 hora  \n",
       "0            Há 1 hora  \n",
       "0            Há 1 hora  \n",
       "..                 ...  \n",
       "0            Há 1 hora  \n",
       "0            Há 1 hora  \n",
       "0            Há 1 hora  \n",
       "0            Há 1 hora  \n",
       "0            Há 1 hora  \n",
       "\n",
       "[100 rows x 4 columns]"
      ]
     },
     "execution_count": 17,
     "metadata": {},
     "output_type": "execute_result"
    }
   ],
   "source": [
    "inicia_coleta(\"Instagram\", 10)"
   ]
  },
  {
   "cell_type": "code",
   "execution_count": null,
   "id": "505b3cdf-083a-4f4f-b305-5bd19edbce71",
   "metadata": {},
   "outputs": [],
   "source": []
  }
 ],
 "metadata": {
  "kernelspec": {
   "display_name": "Python 3 (ipykernel)",
   "language": "python",
   "name": "python3"
  },
  "language_info": {
   "codemirror_mode": {
    "name": "ipython",
    "version": 3
   },
   "file_extension": ".py",
   "mimetype": "text/x-python",
   "name": "python",
   "nbconvert_exporter": "python",
   "pygments_lexer": "ipython3",
   "version": "3.9.7"
  },
  "toc-autonumbering": true
 },
 "nbformat": 4,
 "nbformat_minor": 5
}
